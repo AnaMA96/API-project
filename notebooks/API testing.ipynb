{
 "cells": [
  {
   "cell_type": "code",
   "execution_count": 2,
   "metadata": {},
   "outputs": [],
   "source": [
    "import requests\n",
    "\n",
    "url = \"https://deezerdevs-deezer.p.rapidapi.com/search\"\n",
    "\n",
    "querystring = {\"q\":\"eminem\"}\n",
    "\n",
    "headers = {\n",
    "    'x-rapidapi-key': \"\",\n",
    "    'x-rapidapi-host': \"deezerdevs-deezer.p.rapidapi.com\"\n",
    "    }\n",
    "\n",
    "response = requests.request(\"GET\", url, headers=headers, params=querystring)\n",
    "\n",
    "json = response.json()"
   ]
  },
  {
   "cell_type": "code",
   "execution_count": 3,
   "metadata": {},
   "outputs": [
    {
     "name": "stdout",
     "output_type": "stream",
     "text": [
      "['Lose Yourself (From \"8 Mile\" Soundtrack)', 'Without Me', 'The Real Slim Shady', 'Not Afraid', 'Mockingbird', 'Rap God', 'Venom (Music From The Motion Picture)', \"When I'm Gone\", 'My Name Is', \"Cleanin' Out My Closet\", 'Sing For The Moment', 'Darkness', 'Killshot', 'The Way I Am', 'Fall', 'Like Toy Soldiers', \"'Till I Collapse\", 'Beautiful', 'Love The Way You Lie', 'Survival', 'The Ringer', 'Just Lose It', 'Kamikaze']\n"
     ]
    }
   ],
   "source": [
    "#Canciones de eminem\n",
    "\n",
    "titles = []\n",
    "songs_list = json[\"data\"]\n",
    "for song in songs_list:\n",
    "    if song[\"title\"] not in titles:\n",
    "        titles.append(song[\"title\"])\n",
    "\n",
    "print(titles)"
   ]
  },
  {
   "cell_type": "code",
   "execution_count": 4,
   "metadata": {},
   "outputs": [],
   "source": [
    "def get_artist_titles(artist):\n",
    "    \n",
    "    url = \"https://deezerdevs-deezer.p.rapidapi.com/search\"\n",
    "\n",
    "    querystring = {\"q\":f\"{artist}\"}\n",
    "\n",
    "    headers = {\n",
    "        'x-rapidapi-key': \"\",\n",
    "        'x-rapidapi-host': \"deezerdevs-deezer.p.rapidapi.com\"\n",
    "        }\n",
    "\n",
    "    response = requests.request(\"GET\", url, headers=headers, params=querystring)\n",
    "\n",
    "    json = response.json()\n",
    "    \n",
    "    titles = []\n",
    "    songs_list = json[\"data\"]\n",
    "    for song in songs_list:\n",
    "        #if song[\"title\"] not in titles:\n",
    "        titles.append(song[\"title\"])\n",
    "\n",
    "    return titles"
   ]
  },
  {
   "cell_type": "code",
   "execution_count": 5,
   "metadata": {},
   "outputs": [
    {
     "data": {
      "text/plain": [
       "['Love Yourself',\n",
       " 'Yummy',\n",
       " 'Sorry',\n",
       " 'Intentions (Acoustic)',\n",
       " 'What Do You Mean?',\n",
       " 'Boyfriend',\n",
       " 'Intentions (Acoustic)',\n",
       " 'Justin Bieber',\n",
       " 'Come Around Me',\n",
       " '2U (feat. Justin Bieber)',\n",
       " 'Company',\n",
       " 'Mistletoe',\n",
       " 'Intentions',\n",
       " 'bad guy (with Justin Bieber)',\n",
       " 'Habitual',\n",
       " 'All Around Me',\n",
       " 'Love Yourself',\n",
       " 'Yummy',\n",
       " \"I'll Show You\",\n",
       " 'Changes',\n",
       " 'Confirmation',\n",
       " 'Love Me (Album Version)',\n",
       " 'One Time (Album Version)',\n",
       " 'Available',\n",
       " \"That's What Love Is\"]"
      ]
     },
     "execution_count": 5,
     "metadata": {},
     "output_type": "execute_result"
    }
   ],
   "source": [
    "get_artist_titles(\"Justin Bieber\")"
   ]
  },
  {
   "cell_type": "code",
   "execution_count": 6,
   "metadata": {},
   "outputs": [],
   "source": [
    "#Trying with the API directly instead of RapidAPI so I can reach the charts information\n",
    "\n",
    "url = \"https://api.deezer.com/chart/album\"\n",
    "\n",
    "headers = {'x-rapidapi-key': \"\",\n",
    "           'x-rapidapi-host': \"https://developers.deezer.com\"\n",
    "    }\n",
    "\n",
    "response = requests.request(\"GET\", url, headers=headers)\n",
    "\n",
    "json = response.json()\n",
    "#json"
   ]
  },
  {
   "cell_type": "code",
   "execution_count": 8,
   "metadata": {},
   "outputs": [],
   "source": [
    "def top_charts(category):\n",
    "    url = \"https://api.deezer.com/chart/0/\" + \"f'{category}'\"\n",
    "    headers = {'x-rapidapi-key': \"\",\n",
    "           'x-rapidapi-host': \"https://developers.deezer.com\"\n",
    "    }\n",
    "    response = requests.request(\"GET\", url, headers=headers)\n",
    "    json = response.json()\n",
    "    top_category = []\n",
    "    top_list = json[\"data\"]\n",
    "    for name in top_list:\n",
    "        top_category.append(name[\"title\"])\n",
    "\n",
    "    return top_category"
   ]
  },
  {
   "cell_type": "code",
   "execution_count": null,
   "metadata": {},
   "outputs": [],
   "source": []
  },
  {
   "cell_type": "code",
   "execution_count": null,
   "metadata": {},
   "outputs": [],
   "source": []
  }
 ],
 "metadata": {
  "kernelspec": {
   "display_name": "Python 3",
   "language": "python",
   "name": "python3"
  },
  "language_info": {
   "codemirror_mode": {
    "name": "ipython",
    "version": 3
   },
   "file_extension": ".py",
   "mimetype": "text/x-python",
   "name": "python",
   "nbconvert_exporter": "python",
   "pygments_lexer": "ipython3",
   "version": "3.8.5"
  }
 },
 "nbformat": 4,
 "nbformat_minor": 4
}
